{
 "cells": [
  {
   "cell_type": "code",
   "execution_count": 2,
   "metadata": {
    "collapsed": true
   },
   "outputs": [],
   "source": [
    "import os\n",
    "import pandas as pd\n",
    "import dill as pickle\n",
    "from flask import Flask, request, render_template, send_from_directory\n",
    "import pandas as pd #To work with dataset\n",
    "import numpy as np #Math library"
   ]
  },
  {
   "cell_type": "code",
   "execution_count": 3,
   "metadata": {
    "collapsed": true
   },
   "outputs": [],
   "source": [
    "app = Flask(__name__)\n",
    "\n",
    "# APP_ROOT = os.path.dirname(os.path.abspath(\"__file__\"))\n",
    "\n",
    "@app.route(\"/\")\n",
    "def index():\n",
    "    return render_template(\"upload.html\")"
   ]
  },
  {
   "cell_type": "code",
   "execution_count": 4,
   "metadata": {
    "collapsed": true
   },
   "outputs": [],
   "source": [
    "@app.route(\"/upload\", methods=[\"POST\"])\n",
    "def upload():\n",
    "    #loading a model from a file called model.pkl\n",
    "    print(\"Loading the model...\")\n",
    "    loaded_model = None\n",
    "    with open('model_v3.pk','rb') as f:\n",
    "        loaded_model = pickle.load(f)\n",
    "    \n",
    "    \n",
    "    df_predict = pd.read_csv(\"credit_data.csv\",index_col=0)\n",
    "    \n",
    "    df_final = df_predict\n",
    "    \n",
    "    # Adding the pre-processing techniques same we did at the time of training the model\n",
    "    df_predict['Saving accounts'] = df_predict['Saving accounts'].fillna('no_inf')\n",
    "    df_predict['Current account'] = df_predict['Current account'].fillna('no_inf')\n",
    "\n",
    "    #Purpose to Dummies Variable\n",
    "    df_predict = df_predict.merge(pd.get_dummies(df_predict.Purpose, drop_first=True, prefix='Purpose'), left_index=True, right_index=True)\n",
    "\n",
    "    #Applying One hot encoding in Gender/Sex feature using dummies\n",
    "    df_predict = df_predict.merge(pd.get_dummies(df_predict.Sex, drop_first=True, prefix='Sex'), left_index=True, right_index=True)\n",
    "\n",
    "    # Housing get dummies\n",
    "    df_predict = df_predict.merge(pd.get_dummies(df_predict.Housing, drop_first=True, prefix='Housing'), left_index=True, right_index=True)\n",
    "\n",
    "    # Saving Accounts\n",
    "    df_predict = df_predict.merge(pd.get_dummies(df_predict[\"Saving accounts\"], drop_first=True, prefix='Savings'), left_index=True, right_index=True)\n",
    "    \n",
    "    #  Checking Account\n",
    "    df_predict = df_predict.merge(pd.get_dummies(df_predict[\"Current account\"], drop_first=True, prefix='Check'), left_index=True, right_index=True)\n",
    "    \n",
    "    #  Age categorical\n",
    "    df_predict = df_predict.merge(pd.get_dummies(df_predict[\"Age\"], drop_first=True, prefix='Age_cat'), left_index=True, right_index=True)\n",
    "    \n",
    "    #Excluding the missing columns\n",
    "    del df_predict[\"Saving accounts\"]\n",
    "    del df_predict[\"Current account\"]\n",
    "    del df_predict[\"Purpose\"]\n",
    "    del df_predict[\"Sex\"]\n",
    "    del df_predict[\"Housing\"]\n",
    "    del df_predict[\"Age\"]\n",
    "    \n",
    "    # End of preprocessing\n",
    "    \n",
    "    print('predict value: ',df_predict.shape)\n",
    "    X_to_train = df_predict.values\n",
    "    \n",
    "    print(\"The model has been loaded...doing predictions now...\")\n",
    "    predictions = loaded_model.predict(X_to_train)\n",
    "    df_predictions =  pd.DataFrame(predictions)\n",
    "    \n",
    "    df_final['Final_Predictions']= df_predictions.values\n",
    "    \n",
    "#     print('prediction values : ',df_final.head(10))\n",
    "    \n",
    "    writer = pd.ExcelWriter('Prediction_Output.xlsx')\n",
    "    df_final.to_excel(writer,'Sheet1')\n",
    "    print('predictions as final : ',df_final.shape)\n",
    "    \n",
    "    # return send_from_directory(\"images\", filename, as_attachment=True)\n",
    "    return render_template(\"complete.html\", data = df_final.to_html())"
   ]
  },
  {
   "cell_type": "code",
   "execution_count": null,
   "metadata": {},
   "outputs": [
    {
     "name": "stderr",
     "output_type": "stream",
     "text": [
      " * Running on http://127.0.0.1:5000/ (Press CTRL+C to quit)\n",
      "127.0.0.1 - - [12/Oct/2018 13:13:24] \"GET / HTTP/1.1\" 200 -\n",
      "127.0.0.1 - - [12/Oct/2018 13:13:24] \"GET /static/hand.jpg HTTP/1.1\" 200 -\n"
     ]
    }
   ],
   "source": [
    "if __name__ == '__main__':\n",
    "    app.run()"
   ]
  },
  {
   "cell_type": "code",
   "execution_count": null,
   "metadata": {
    "collapsed": true
   },
   "outputs": [],
   "source": []
  },
  {
   "cell_type": "code",
   "execution_count": null,
   "metadata": {
    "collapsed": true
   },
   "outputs": [],
   "source": []
  }
 ],
 "metadata": {
  "kernelspec": {
   "display_name": "Python 3",
   "language": "python",
   "name": "python3"
  },
  "language_info": {
   "codemirror_mode": {
    "name": "ipython",
    "version": 3
   },
   "file_extension": ".py",
   "mimetype": "text/x-python",
   "name": "python",
   "nbconvert_exporter": "python",
   "pygments_lexer": "ipython3",
   "version": "3.6.3"
  }
 },
 "nbformat": 4,
 "nbformat_minor": 2
}
